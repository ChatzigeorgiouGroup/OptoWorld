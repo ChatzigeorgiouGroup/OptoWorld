{
 "cells": [
  {
   "cell_type": "code",
   "execution_count": 15,
   "metadata": {},
   "outputs": [],
   "source": [
    "from mqtt import MQTT_connection\n",
    "from IPython.display import display\n",
    "import ipywidgets as widgets\n",
    "import time, threading\n",
    "import numpy as np\n",
    "import matplotlib.pyplot as plt\n",
    "import datetime"
   ]
  },
  {
   "cell_type": "code",
   "execution_count": 18,
   "metadata": {},
   "outputs": [],
   "source": [
    "class Controller:\n",
    "    def __init__(self):\n",
    "        self.mqtt = MQTT_connection()\n",
    "        self.button = widgets.Button(description = \"Switch Light Status\")\n",
    "        self.light_state = 0\n",
    "        self.temperatures = []\n",
    "        self.datetimes = []\n",
    "        self.plot_data ={\"time\":range(len(self.temperatures)),\"temperature\":self.temperatures}        \n",
    "        self.button.on_click(self.switch_lights)\n",
    "        \n",
    "        self.toggle = widgets.ToggleButton(description = \"Switch Lights\", value = bool(self.mqtt.light_state), \n",
    "                                            button_style = \"info\")\n",
    "        self.toggle.observe(self.switch_lights, \"value\")\n",
    "        display(self.toggle)\n",
    "#         self.update_temperatures()\n",
    "        self.update_thread = threading.Thread(target = self.update_temperatures, args = ())\n",
    "        self.update_thread.start()\n",
    "   \n",
    "    def switch_lights(self, x):\n",
    "        #x passed because of how the ipywidgets button passes stuff to the connected function\n",
    "        self.mqtt.switch_lights()\n",
    "               \n",
    "    \n",
    "    def update_temperatures(self):\n",
    "        \n",
    "        fig, ax = plt.subplots()\n",
    "        ax.autoscale(enable = True, axis = \"both\", tight = True)\n",
    "        ax.set_xlabel(\"Time\")\n",
    "        ax.set_ylabel(\"Temperature (C)\")\n",
    "        line, = ax.plot([],[])\n",
    "        plt.show()\n",
    "        self.alive = True\n",
    "        counter = 0\n",
    "        while self.alive:\n",
    "            self.temperatures.append(self.mqtt.q.get())\n",
    "            self.mqtt.q.task_done()\n",
    "            self.datetimes.append(datetime.datetime.now())\n",
    "            ax.set_title(f\"The Lights are {self.mqtt.light_state}\")\n",
    "            \n",
    "            counter +=1\n",
    "\n",
    "            x_data = range(len(self.temperatures))\n",
    "            line.set_xdata(self.datetimes)\n",
    "            line.set_ydata(self.temperatures)\n",
    "#                 self.ax.relim()\n",
    "#                 self.ax.autoscale_view(tight = True)\n",
    "            ax.set_xlim([self.datetimes[0],self.datetimes[-1]+datetime.timedelta(seconds = 5)])\n",
    "            ax.set_ylim(ymin = np.min(self.temperatures) -1, ymax = np.max(self.temperatures)+1)\n",
    "            fig.canvas.draw()\n",
    "            time.sleep(0.5)\n",
    "                                        \n",
    "            \n",
    "            \n",
    "            \n",
    "            "
   ]
  },
  {
   "cell_type": "code",
   "execution_count": 17,
   "metadata": {},
   "outputs": [
    {
     "data": {
      "application/vnd.jupyter.widget-view+json": {
       "model_id": "27a8b786561a47eb9956a0f8433b9812",
       "version_major": 2,
       "version_minor": 0
      },
      "text/plain": [
       "ToggleButton(value=False, button_style='info', description='Switch Lights')"
      ]
     },
     "metadata": {},
     "output_type": "display_data"
    },
    {
     "data": {
      "application/vnd.jupyter.widget-view+json": {
       "model_id": "23722d3da8004c828a55bd0cc80e5f5c",
       "version_major": 2,
       "version_minor": 0
      },
      "text/plain": [
       "Canvas(toolbar=Toolbar(toolitems=[('Home', 'Reset original view', 'home', 'home'), ('Back', 'Back to previous …"
      ]
     },
     "metadata": {},
     "output_type": "display_data"
    }
   ],
   "source": [
    "%matplotlib widget\n",
    "c = Controller()"
   ]
  },
  {
   "cell_type": "code",
   "execution_count": null,
   "metadata": {},
   "outputs": [],
   "source": []
  }
 ],
 "metadata": {
  "kernelspec": {
   "display_name": "Python 3",
   "language": "python",
   "name": "python3"
  },
  "language_info": {
   "codemirror_mode": {
    "name": "ipython",
    "version": 3
   },
   "file_extension": ".py",
   "mimetype": "text/x-python",
   "name": "python",
   "nbconvert_exporter": "python",
   "pygments_lexer": "ipython3",
   "version": "3.6.9"
  }
 },
 "nbformat": 4,
 "nbformat_minor": 2
}
