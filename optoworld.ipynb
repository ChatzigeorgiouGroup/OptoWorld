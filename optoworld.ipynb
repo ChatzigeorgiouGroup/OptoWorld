{
 "cells": [
  {
   "cell_type": "code",
   "execution_count": 1,
   "metadata": {},
   "outputs": [],
   "source": [
    "from mqtt import Light_Switch\n",
    "from IPython.display import display\n",
    "import ipywidgets as widgets\n",
    "import time, threading\n",
    "import numpy as np\n",
    "import matplotlib.pyplot as plt\n",
    "import matplotlib.dates as mdates\n",
    "import matplotlib.colors as mc\n",
    "import datetime\n",
    "import pandas as pd\n",
    "from pandas.plotting import register_matplotlib_converters\n",
    "register_matplotlib_converters()\n",
    "import glob\n",
    "import base64\n",
    "from IPython.display import HTML\n"
   ]
  },
  {
   "cell_type": "code",
   "execution_count": 2,
   "metadata": {},
   "outputs": [],
   "source": [
    "%matplotlib widget\n"
   ]
  },
  {
   "cell_type": "code",
   "execution_count": 3,
   "metadata": {},
   "outputs": [],
   "source": [
    "class Controller:\n",
    "    def __init__(self):\n",
    "        self.mqtt = MQTT_connection(\"192.168.1.3\")\n",
    "        self.button = widgets.Button(description = \"Switch Light Status\")\n",
    "        self.light_state = 0\n",
    "        self.temperatures = []\n",
    "        self.datetimes = []\n",
    "        self.plot_data ={\"time\":range(len(self.temperatures)),\"temperature\":self.temperatures}        \n",
    "        self.button.on_click(self.switch_lights)\n",
    "        \n",
    "        self.toggle = widgets.ToggleButton(description = \"Switch Lights\", value = bool(self.mqtt.light_state), \n",
    "                                            button_style = \"info\")\n",
    "        self.toggle.observe(self.switch_lights, \"value\")\n",
    "        display(self.toggle)\n",
    "        \n",
    "    def start_display(self):\n",
    "        self.update_thread = threading.Thread(target = self.update_temperatures, args = ())\n",
    "        self.update_thread.start()\n",
    "   \n",
    "    def switch_lights(self, x):\n",
    "        #x passed because of how the ipywidgets button passes stuff to the connected function\n",
    "        self.mqtt.switch_lights()\n",
    "               \n",
    "    \n",
    "    def update_temperatures(self):\n",
    "        \n",
    "        fig, ax = plt.subplots()\n",
    "        ax.autoscale(enable = True, axis = \"both\", tight = True)\n",
    "        ax.set_xlabel(\"Time\")\n",
    "        ax.set_ylabel(\"Temperature (C)\")\n",
    "        ax.set_title(f\"OptoWorld Live State\")\n",
    "        light_indicator = plt.Circle([0.8,1], radius = 0.01)\n",
    "        ax.add_artist(light_indicator)\n",
    "        line, = ax.plot([],[])\n",
    "        plt.show()\n",
    "        self.alive = True\n",
    "        counter = 0\n",
    "        while self.alive:\n",
    "            self.temperatures.append(self.mqtt.q.get())\n",
    "            self.mqtt.q.task_done()\n",
    "            self.datetimes.append(datetime.datetime.now())\n",
    "            \n",
    "            \n",
    "            counter +=1\n",
    "\n",
    "            x_data = range(len(self.temperatures))\n",
    "            line.set_xdata(self.datetimes)\n",
    "            line.set_ydata(self.temperatures)\n",
    "            light_indicator.center = [self.datetimes[-1] - datetime.timedelta(seconds = 30), 25]\n",
    "#                 self.ax.relim()\n",
    "#                 self.ax.autoscale_view(tight = True)\n",
    "            ax.set_xlim([self.datetimes[0],self.datetimes[-1]+datetime.timedelta(seconds = 5)])\n",
    "            ax.set_ylim(ymin = np.min(self.temperatures) -1, ymax = np.max(self.temperatures)+1)\n",
    "            fig.canvas.draw()\n",
    "            time.sleep(0.5)\n",
    "                                        \n",
    "            \n",
    "            \n",
    "            \n",
    "            "
   ]
  },
  {
   "cell_type": "code",
   "execution_count": null,
   "metadata": {},
   "outputs": [],
   "source": [
    "c = Controller()"
   ]
  },
  {
   "cell_type": "code",
   "execution_count": null,
   "metadata": {},
   "outputs": [],
   "source": [
    "c.start_display()"
   ]
  },
  {
   "cell_type": "code",
   "execution_count": 4,
   "metadata": {},
   "outputs": [],
   "source": [
    "def map_values(x, in_min, in_max, out_min, out_max):\n",
    "    return (x-in_min) * (out_max - out_min) / (in_max - in_min) + out_min\n",
    "\n",
    "def rle(inarray):\n",
    "        \"\"\" run length encoding. Partial credit to R rle function. \n",
    "            Multi datatype arrays catered for including non Numpy\n",
    "            returns: tuple (runlengths, startpositions, values) \"\"\"\n",
    "        ia = np.asarray(inarray)                  # force numpy\n",
    "        n = len(ia)\n",
    "        if n == 0: \n",
    "            return (None, None, None)\n",
    "        else:\n",
    "            y = np.array(ia[1:] != ia[:-1])     # pairwise unequal (string safe)\n",
    "            i = np.append(np.where(y), n - 1)   # must include last element posi\n",
    "            z = np.diff(np.append(-1, i))       # run lengths\n",
    "            p = np.cumsum(np.append(0, z))[:-1] # positions\n",
    "            return(z, p, ia[i])"
   ]
  },
  {
   "cell_type": "code",
   "execution_count": null,
   "metadata": {},
   "outputs": [],
   "source": []
  },
  {
   "cell_type": "code",
   "execution_count": 5,
   "metadata": {
    "scrolled": false
   },
   "outputs": [
    {
     "data": {
      "application/vnd.jupyter.widget-view+json": {
       "model_id": "1d3ba41d0088411f9d5fe4ed3e7e9eab",
       "version_major": 2,
       "version_minor": 0
      },
      "text/plain": [
       "interactive(children=(Dropdown(description='file_to_plot', options=('/mnt/NAS/optoworld_logs/20200226_optoworl…"
      ]
     },
     "metadata": {},
     "output_type": "display_data"
    }
   ],
   "source": [
    "\n",
    "\n",
    "widgets.interact_manual.opts[\"manual_name\"] = \"Update Plot\"\n",
    "@widgets.interact_manual\n",
    "def plot_temperatures(file_to_plot = glob.glob(\"/mnt/NAS/optoworld_logs/*.txt\"), \n",
    "                      time_range = widgets.IntRangeSlider(description = \"range to plot\", value = [0,100], min = 0, max = 100)):\n",
    "    plt.close(\"all\")\n",
    "    fig1, axes = plt.subplots(figsize = (10,5))\n",
    "    file = pd.read_csv(file_to_plot, sep = \"\\t\")\n",
    "    time_range = map_values(np.array([time_range[0], time_range[1]]), 0, 100, 0, len(file))\n",
    "    lower, upper = time_range.astype(np.int32)\n",
    "    file = file.loc[lower:upper]\n",
    "    \n",
    "    min_temp = file[\"temperature\"].min()\n",
    "    max_temp = file[\"temperature\"].max()\n",
    "    lengths, starts, values =rle(file[\"lightstate\"])\n",
    "    for length, start, value in zip(lengths, starts, values):\n",
    "        if value == 1:\n",
    "            print(length, start)\n",
    "            x = mdates.date2num(pd.to_datetime(file[\"time\"].iloc[start]))\n",
    "            y = min_temp -1\n",
    "            try:\n",
    "                l = mdates.date2num(pd.to_datetime(file[\"time\"].iloc[start+length])) - x\n",
    "            except:\n",
    "                l = mdates.date2num(pd.to_datetime(file[\"time\"].iloc[-1])) - x\n",
    "            h = max_temp - min_temp + 2\n",
    "            rect = plt.Rectangle((x,y), l, h, facecolor = \"lightblue\", alpha = 0.3)\n",
    "            axes.add_artist(rect)    \n",
    "    axes.plot(pd.to_datetime(file[\"time\"]), file[\"temperature\"], c = \"gray\", alpha = 0.5, lw = 0.5)\n",
    "    norm = mc.Normalize(vmin = 20, vmax = 30)\n",
    "    axes.scatter(pd.to_datetime(file[\"time\"]), file[\"temperature\"], c = norm(file[\"temperature\"].values), cmap = \"RdBu_r\", s = 1)\n",
    "    fig1.autofmt_xdate()\n",
    "    "
   ]
  },
  {
   "cell_type": "code",
   "execution_count": 6,
   "metadata": {},
   "outputs": [
    {
     "data": {
      "application/vnd.jupyter.widget-view+json": {
       "model_id": "b3b406df083240cdbf0dd29873c49b6c",
       "version_major": 2,
       "version_minor": 0
      },
      "text/plain": [
       "interactive(children=(Dropdown(description='filename', options=('/mnt/NAS/optoworld_logs/20200226_optoworld_te…"
      ]
     },
     "metadata": {},
     "output_type": "display_data"
    }
   ],
   "source": [
    "def create_download_link(f, title = \"Download CSV file\", filename = \"data.csv\"):  \n",
    "    filename = f\n",
    "    title = f\"Download file:  {filename}\"\n",
    "    filename = f.split(\"/\")[-1]\n",
    "    csv = open(f,'r').read()\n",
    "    b64 = base64.b64encode(csv.encode())\n",
    "    payload = b64.decode()\n",
    "    html = '<a download=\"{filename}\" href=\"data:text/csv;base64,{payload}\" target=\"_blank\">{title}</a>'\n",
    "    html = html.format(payload=payload,title=title,filename=filename)\n",
    "    return HTML(html)\n",
    "\n",
    "\n",
    "@widgets.interact\n",
    "def download(filename = glob.glob(\"/mnt/NAS/optoworld_logs/*.txt\")):\n",
    "    display(create_download_link(filename))"
   ]
  },
  {
   "cell_type": "code",
   "execution_count": 10,
   "metadata": {},
   "outputs": [],
   "source": [
    "def update_plot(event):\n",
    "    ax.clear()\n",
    "    file = pd.read_csv(file_dropdown.value, sep = \"\\t\")\n",
    "#     time_range = map_values(np.array([time_range[0], time_range[1]]), 0, 100, 0, len(file))\n",
    "    time_range = np.array([0, len(file)])\n",
    "    lower, upper = time_range.astype(np.int32)\n",
    "    file = file.loc[lower:upper]\n",
    "    \n",
    "    min_temp = file[\"temperature\"].min()\n",
    "    max_temp = file[\"temperature\"].max()\n",
    "    lengths, starts, values =rle(file[\"lightstate\"])\n",
    "    for length, start, value in zip(lengths, starts, values):\n",
    "        if value == 1:\n",
    "#             print(length, start)\n",
    "            x = mdates.date2num(pd.to_datetime(file[\"time\"].iloc[start]))\n",
    "            y = min_temp -1\n",
    "            try:\n",
    "                l = mdates.date2num(pd.to_datetime(file[\"time\"].iloc[start+length])) - x\n",
    "            except:\n",
    "                l = mdates.date2num(pd.to_datetime(file[\"time\"].iloc[-1])) - x\n",
    "            h = max_temp - min_temp + 2\n",
    "            rect = plt.Rectangle((x,y), l, h, facecolor = \"lightblue\", alpha = 0.3)\n",
    "            ax.add_artist(rect)    \n",
    "    ax.plot(pd.to_datetime(file[\"time\"]), file[\"temperature\"], c = \"gray\", alpha = 0.5, lw = 0.5)\n",
    "    norm = mc.Normalize(vmin = 20, vmax = 30)\n",
    "    ax.scatter(pd.to_datetime(file[\"time\"]), file[\"temperature\"], c = norm(file[\"temperature\"].values), cmap = \"RdBu_r\", s = 1)\n",
    "    fig.autofmt_xdate()\n",
    "\n",
    "def show_download_link(event):\n",
    "    display(create_download_link(file_dropdown.value))\n",
    "    \n",
    "def switch_light(event):\n",
    "    switch.switch()\n",
    "    \n",
    "    \n",
    "switch = Light_Switch(broker_address = \"192.168.1.3\", client_name = \"switch\")\n"
   ]
  },
  {
   "cell_type": "code",
   "execution_count": 11,
   "metadata": {},
   "outputs": [
    {
     "data": {
      "application/vnd.jupyter.widget-view+json": {
       "model_id": "a9962b3f38114ed5935d2436dd24bc39",
       "version_major": 2,
       "version_minor": 0
      },
      "text/plain": [
       "Canvas(toolbar=Toolbar(toolitems=[('Home', 'Reset original view', 'home', 'home'), ('Back', 'Back to previous …"
      ]
     },
     "metadata": {},
     "output_type": "display_data"
    },
    {
     "data": {
      "application/vnd.jupyter.widget-view+json": {
       "model_id": "e4e588c0f3934f50b9d46c8365ba7693",
       "version_major": 2,
       "version_minor": 0
      },
      "text/plain": [
       "HBox(children=(Dropdown(index=2, options=('/mnt/NAS/optoworld_logs/20200226_optoworld_temps.txt', '/mnt/NAS/op…"
      ]
     },
     "metadata": {},
     "output_type": "display_data"
    }
   ],
   "source": [
    "fig, ax = plt.subplots();\n",
    "\n",
    "file_dropdown = widgets.Dropdown(options = glob.glob(\"/mnt/NAS/optoworld_logs/*.txt\"), value = glob.glob(\"/mnt/NAS/optoworld_logs/*.txt\")[-1])\n",
    "run_button = widgets.Button(description = \"Update Plot\")\n",
    "run_button.on_click(update_plot)\n",
    "download_button = widgets.Button(description = \"Make Download Link\")\n",
    "download_button.on_click(show_download_link)\n",
    "toggle_button = widgets.Button(description = \"Switch Light\")\n",
    "toggle_button.on_click(switch_light)\n",
    "update_plot(\"bah\")\n",
    "hbox = widgets.HBox(children = [file_dropdown, run_button, download_button, toggle_button])\n",
    "display(hbox)"
   ]
  },
  {
   "cell_type": "code",
   "execution_count": 10,
   "metadata": {},
   "outputs": [
    {
     "data": {
      "text/plain": [
       "int"
      ]
     },
     "execution_count": 10,
     "metadata": {},
     "output_type": "execute_result"
    }
   ],
   "source": [
    "type(light_monitor.light_state)"
   ]
  },
  {
   "cell_type": "code",
   "execution_count": null,
   "metadata": {},
   "outputs": [],
   "source": []
  }
 ],
 "metadata": {
  "kernelspec": {
   "display_name": "Python 3",
   "language": "python",
   "name": "python3"
  },
  "language_info": {
   "codemirror_mode": {
    "name": "ipython",
    "version": 3
   },
   "file_extension": ".py",
   "mimetype": "text/x-python",
   "name": "python",
   "nbconvert_exporter": "python",
   "pygments_lexer": "ipython3",
   "version": "3.6.9"
  }
 },
 "nbformat": 4,
 "nbformat_minor": 2
}
