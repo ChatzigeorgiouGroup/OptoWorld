{
 "cells": [
  {
   "cell_type": "code",
   "execution_count": 1,
   "metadata": {},
   "outputs": [],
   "source": [
    "from mqtt import MQTT_connection\n",
    "from IPython.display import display\n",
    "import ipywidgets as widgets\n",
    "import time, threading\n",
    "import numpy as np\n",
    "import matplotlib.pyplot as plt\n",
    "import matplotlib.dates as mdates\n",
    "import datetime\n",
    "import pandas as pd\n",
    "from pandas.plotting import register_matplotlib_converters\n",
    "register_matplotlib_converters()\n",
    "import glob\n",
    "\n"
   ]
  },
  {
   "cell_type": "code",
   "execution_count": 2,
   "metadata": {},
   "outputs": [],
   "source": [
    "%matplotlib widget\n"
   ]
  },
  {
   "cell_type": "code",
   "execution_count": 3,
   "metadata": {},
   "outputs": [],
   "source": [
    "class Controller:\n",
    "    def __init__(self):\n",
    "        self.mqtt = MQTT_connection(\"192.168.1.3\")\n",
    "        self.button = widgets.Button(description = \"Switch Light Status\")\n",
    "        self.light_state = 0\n",
    "        self.temperatures = []\n",
    "        self.datetimes = []\n",
    "        self.plot_data ={\"time\":range(len(self.temperatures)),\"temperature\":self.temperatures}        \n",
    "        self.button.on_click(self.switch_lights)\n",
    "        \n",
    "        self.toggle = widgets.ToggleButton(description = \"Switch Lights\", value = bool(self.mqtt.light_state), \n",
    "                                            button_style = \"info\")\n",
    "        self.toggle.observe(self.switch_lights, \"value\")\n",
    "        display(self.toggle)\n",
    "        \n",
    "    def start_display(self):\n",
    "        self.update_thread = threading.Thread(target = self.update_temperatures, args = ())\n",
    "        self.update_thread.start()\n",
    "   \n",
    "    def switch_lights(self, x):\n",
    "        #x passed because of how the ipywidgets button passes stuff to the connected function\n",
    "        self.mqtt.switch_lights()\n",
    "               \n",
    "    \n",
    "    def update_temperatures(self):\n",
    "        \n",
    "        fig, ax = plt.subplots()\n",
    "        ax.autoscale(enable = True, axis = \"both\", tight = True)\n",
    "        ax.set_xlabel(\"Time\")\n",
    "        ax.set_ylabel(\"Temperature (C)\")\n",
    "        ax.set_title(f\"OptoWorld Live State\")\n",
    "        light_indicator = plt.Circle([0.8,1], radius = 0.01)\n",
    "        ax.add_artist(light_indicator)\n",
    "        line, = ax.plot([],[])\n",
    "        plt.show()\n",
    "        self.alive = True\n",
    "        counter = 0\n",
    "        while self.alive:\n",
    "            self.temperatures.append(self.mqtt.q.get())\n",
    "            self.mqtt.q.task_done()\n",
    "            self.datetimes.append(datetime.datetime.now())\n",
    "            \n",
    "            \n",
    "            counter +=1\n",
    "\n",
    "            x_data = range(len(self.temperatures))\n",
    "            line.set_xdata(self.datetimes)\n",
    "            line.set_ydata(self.temperatures)\n",
    "            light_indicator.center = [self.datetimes[-1] - datetime.timedelta(seconds = 30), 25]\n",
    "#                 self.ax.relim()\n",
    "#                 self.ax.autoscale_view(tight = True)\n",
    "            ax.set_xlim([self.datetimes[0],self.datetimes[-1]+datetime.timedelta(seconds = 5)])\n",
    "            ax.set_ylim(ymin = np.min(self.temperatures) -1, ymax = np.max(self.temperatures)+1)\n",
    "            fig.canvas.draw()\n",
    "            time.sleep(0.5)\n",
    "                                        \n",
    "            \n",
    "            \n",
    "            \n",
    "            "
   ]
  },
  {
   "cell_type": "code",
   "execution_count": 4,
   "metadata": {},
   "outputs": [
    {
     "data": {
      "application/vnd.jupyter.widget-view+json": {
       "model_id": "67802a357d0a4ff8a29e11d5c670c9a0",
       "version_major": 2,
       "version_minor": 0
      },
      "text/plain": [
       "ToggleButton(value=False, button_style='info', description='Switch Lights')"
      ]
     },
     "metadata": {},
     "output_type": "display_data"
    }
   ],
   "source": [
    "c = Controller()"
   ]
  },
  {
   "cell_type": "code",
   "execution_count": 5,
   "metadata": {},
   "outputs": [
    {
     "data": {
      "application/vnd.jupyter.widget-view+json": {
       "model_id": "8a9cd8c1136d47f5aa47915f5c198b60",
       "version_major": 2,
       "version_minor": 0
      },
      "text/plain": [
       "Canvas(toolbar=Toolbar(toolitems=[('Home', 'Reset original view', 'home', 'home'), ('Back', 'Back to previous …"
      ]
     },
     "metadata": {},
     "output_type": "display_data"
    }
   ],
   "source": [
    "c.start_display()"
   ]
  },
  {
   "cell_type": "code",
   "execution_count": 6,
   "metadata": {},
   "outputs": [],
   "source": [
    "def map_values(x, in_min, in_max, out_min, out_max):\n",
    "    return (x-in_min) * (out_max - out_min) / (in_max - in_min) + out_min\n",
    "\n",
    "def rle(inarray):\n",
    "        \"\"\" run length encoding. Partial credit to R rle function. \n",
    "            Multi datatype arrays catered for including non Numpy\n",
    "            returns: tuple (runlengths, startpositions, values) \"\"\"\n",
    "        ia = np.asarray(inarray)                  # force numpy\n",
    "        n = len(ia)\n",
    "        if n == 0: \n",
    "            return (None, None, None)\n",
    "        else:\n",
    "            y = np.array(ia[1:] != ia[:-1])     # pairwise unequal (string safe)\n",
    "            i = np.append(np.where(y), n - 1)   # must include last element posi\n",
    "            z = np.diff(np.append(-1, i))       # run lengths\n",
    "            p = np.cumsum(np.append(0, z))[:-1] # positions\n",
    "            return(z, p, ia[i])"
   ]
  },
  {
   "cell_type": "code",
   "execution_count": 7,
   "metadata": {
    "scrolled": false
   },
   "outputs": [
    {
     "data": {
      "application/vnd.jupyter.widget-view+json": {
       "model_id": "b2995b06722d43d99fe7544ac870a400",
       "version_major": 2,
       "version_minor": 0
      },
      "text/plain": [
       "interactive(children=(Dropdown(description='file_to_plot', options=('./testfile_old.txt', './testfile.txt'), v…"
      ]
     },
     "metadata": {},
     "output_type": "display_data"
    }
   ],
   "source": [
    "widgets.interact_manual.opts[\"manual_name\"] = \"Plot\"\n",
    "@widgets.interact_manual(description =\"update\")\n",
    "def plot_temperatures(file_to_plot = glob.glob(\"./*.txt\"), \n",
    "                      time_range = widgets.IntRangeSlider(description = \"range to plot\", value = [0,100], min = 0, max = 100)):\n",
    "#     plt.close(\"all\")\n",
    "    fig1, axes = plt.subplots(figsize = (10,5))\n",
    "    file = pd.read_csv(file_to_plot, sep = \"\\t\")\n",
    "    time_range = map_values(np.array([time_range[0], time_range[1]]), 0, 100, 0, len(file))\n",
    "    lower, upper = time_range.astype(np.int32)\n",
    "    file = file.loc[lower:upper]\n",
    "    \n",
    "    min_temp = file[\"temperature\"].min()\n",
    "    max_temp = file[\"temperature\"].max()\n",
    "    lengths, starts, values =rle(file[\"lightstate\"])\n",
    "    for length, start, value in zip(lengths, starts, values):\n",
    "        if value == 1:\n",
    "            print(length, start)\n",
    "            x = mdates.date2num(pd.to_datetime(file[\"time\"].iloc[start]))\n",
    "            y = min_temp -1\n",
    "            try:\n",
    "                l = mdates.date2num(pd.to_datetime(file[\"time\"].iloc[start+length])) - x\n",
    "            except:\n",
    "                l = mdates.date2num(pd.to_datetime(file[\"time\"].iloc[-1])) - x\n",
    "            h = max_temp - min_temp + 2\n",
    "            rect = plt.Rectangle((x,y), l, h, facecolor = \"lightblue\", alpha = 0.3)\n",
    "            axes.add_artist(rect)    \n",
    "    axes.plot(pd.to_datetime(file[\"time\"]), file[\"temperature\"])\n",
    "    fig1.autofmt_xdate()\n",
    "    "
   ]
  },
  {
   "cell_type": "code",
   "execution_count": 8,
   "metadata": {},
   "outputs": [
    {
     "data": {
      "application/vnd.jupyter.widget-view+json": {
       "model_id": "14a360c4747447e7b876cc385c9254d4",
       "version_major": 2,
       "version_minor": 0
      },
      "text/plain": [
       "interactive(children=(Dropdown(description='filename', options=('./testfile_old.txt', './testfile.txt'), value…"
      ]
     },
     "metadata": {},
     "output_type": "display_data"
    }
   ],
   "source": [
    "widgets.interact_manual.opts[\"manual_name\"] = \"Download file\"\n",
    "\n",
    "@widgets.interact_manual\n",
    "def dowload_file(filename = glob.glob(\"./*.txt\")):\n",
    "    js_download = \"\"\"\n",
    "    var csv = %s;\n",
    "\n",
    "    var filename = 'testfile.txt';\n",
    "    var blob = new Blob([csv], { type: 'text/csv;charset=utf-8;' });\n",
    "    if (navigator.msSaveBlob) { // IE 10+\n",
    "        navigator.msSaveBlob(blob, filename);\n",
    "    } else {\n",
    "        var link = document.createElement(\"a\");\n",
    "        if (link.download !== undefined) { // feature detection\n",
    "            // Browsers that support HTML5 download attribute\n",
    "            var url = URL.createObjectURL(blob);\n",
    "            link.setAttribute(\"href\", url);\n",
    "            link.setAttribute(\"download\", filename);\n",
    "            link.style.visibility = 'hidden';\n",
    "            document.body.appendChild(link);\n",
    "            link.click();\n",
    "            document.body.removeChild(link);\n",
    "        }\n",
    "    }\n",
    "    \"\"\" % open(filename,'r').readlines()\n",
    "\n",
    "    display(Javascript(js_download))"
   ]
  },
  {
   "cell_type": "code",
   "execution_count": null,
   "metadata": {},
   "outputs": [],
   "source": []
  }
 ],
 "metadata": {
  "kernelspec": {
   "display_name": "Python 3",
   "language": "python",
   "name": "python3"
  },
  "language_info": {
   "codemirror_mode": {
    "name": "ipython",
    "version": 3
   },
   "file_extension": ".py",
   "mimetype": "text/x-python",
   "name": "python",
   "nbconvert_exporter": "python",
   "pygments_lexer": "ipython3",
   "version": "3.6.9"
  }
 },
 "nbformat": 4,
 "nbformat_minor": 2
}
